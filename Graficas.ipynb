{
 "cells": [
  {
   "cell_type": "code",
   "execution_count": 1,
   "metadata": {
    "executionInfo": {
     "elapsed": 188,
     "status": "ok",
     "timestamp": 1739393586109,
     "user": {
      "displayName": "jose bonilla",
      "userId": "01636082211623947141"
     },
     "user_tz": 240
    },
    "id": "w6s9uV-V5ZlM"
   },
   "outputs": [],
   "source": [
    "import pandas as pd\n",
    "\n",
    "df = pd.read_csv(\"impacto_capacitacion.csv\")  # Para archivos CSV\n",
    "# df = pd.read_excel(\"datos.xlsx\")  # Para archivos Excel\n",
    "# df = pd.read_json(\"datos.json\")  # Para JSON"
   ]
  },
  {
   "cell_type": "code",
   "execution_count": 2,
   "metadata": {
    "colab": {
     "base_uri": "https://localhost:8080/",
     "height": 226
    },
    "executionInfo": {
     "elapsed": 217,
     "status": "ok",
     "timestamp": 1739393349509,
     "user": {
      "displayName": "jose bonilla",
      "userId": "01636082211623947141"
     },
     "user_tz": 240
    },
    "id": "YGkRYRE95bOh",
    "outputId": "58522187-c64f-4d9a-f1e5-a22713f2bf84"
   },
   "outputs": [
    {
     "data": {
      "text/html": [
       "<div>\n",
       "<style scoped>\n",
       "    .dataframe tbody tr th:only-of-type {\n",
       "        vertical-align: middle;\n",
       "    }\n",
       "\n",
       "    .dataframe tbody tr th {\n",
       "        vertical-align: top;\n",
       "    }\n",
       "\n",
       "    .dataframe thead th {\n",
       "        text-align: right;\n",
       "    }\n",
       "</style>\n",
       "<table border=\"1\" class=\"dataframe\">\n",
       "  <thead>\n",
       "    <tr style=\"text-align: right;\">\n",
       "      <th></th>\n",
       "      <th>ID_Empleado</th>\n",
       "      <th>Departamento</th>\n",
       "      <th>Horas_Capacitacion</th>\n",
       "      <th>Costo_Capacitacion</th>\n",
       "      <th>Evaluacion_Desempeno_Antes</th>\n",
       "      <th>Evaluacion_Desempeno_Despues</th>\n",
       "      <th>Productividad_%</th>\n",
       "      <th>Retencion_Laboral</th>\n",
       "    </tr>\n",
       "  </thead>\n",
       "  <tbody>\n",
       "    <tr>\n",
       "      <th>0</th>\n",
       "      <td>E1000</td>\n",
       "      <td>TI</td>\n",
       "      <td>10</td>\n",
       "      <td>1000</td>\n",
       "      <td>67</td>\n",
       "      <td>80</td>\n",
       "      <td>88</td>\n",
       "      <td>No</td>\n",
       "    </tr>\n",
       "    <tr>\n",
       "      <th>1</th>\n",
       "      <td>E1001</td>\n",
       "      <td>TI</td>\n",
       "      <td>25</td>\n",
       "      <td>500</td>\n",
       "      <td>76</td>\n",
       "      <td>73</td>\n",
       "      <td>92</td>\n",
       "      <td>Sí</td>\n",
       "    </tr>\n",
       "    <tr>\n",
       "      <th>2</th>\n",
       "      <td>E1002</td>\n",
       "      <td>Marketing</td>\n",
       "      <td>25</td>\n",
       "      <td>1500</td>\n",
       "      <td>78</td>\n",
       "      <td>83</td>\n",
       "      <td>66</td>\n",
       "      <td>Sí</td>\n",
       "    </tr>\n",
       "    <tr>\n",
       "      <th>3</th>\n",
       "      <td>E1003</td>\n",
       "      <td>Producción</td>\n",
       "      <td>30</td>\n",
       "      <td>200</td>\n",
       "      <td>70</td>\n",
       "      <td>83</td>\n",
       "      <td>60</td>\n",
       "      <td>No</td>\n",
       "    </tr>\n",
       "    <tr>\n",
       "      <th>4</th>\n",
       "      <td>E1004</td>\n",
       "      <td>Marketing</td>\n",
       "      <td>20</td>\n",
       "      <td>2000</td>\n",
       "      <td>66</td>\n",
       "      <td>82</td>\n",
       "      <td>94</td>\n",
       "      <td>Sí</td>\n",
       "    </tr>\n",
       "  </tbody>\n",
       "</table>\n",
       "</div>"
      ],
      "text/plain": [
       "  ID_Empleado Departamento  Horas_Capacitacion  Costo_Capacitacion  \\\n",
       "0       E1000           TI                  10                1000   \n",
       "1       E1001           TI                  25                 500   \n",
       "2       E1002    Marketing                  25                1500   \n",
       "3       E1003   Producción                  30                 200   \n",
       "4       E1004    Marketing                  20                2000   \n",
       "\n",
       "   Evaluacion_Desempeno_Antes  Evaluacion_Desempeno_Despues  Productividad_%  \\\n",
       "0                          67                            80               88   \n",
       "1                          76                            73               92   \n",
       "2                          78                            83               66   \n",
       "3                          70                            83               60   \n",
       "4                          66                            82               94   \n",
       "\n",
       "  Retencion_Laboral  \n",
       "0                No  \n",
       "1                Sí  \n",
       "2                Sí  \n",
       "3                No  \n",
       "4                Sí  "
      ]
     },
     "execution_count": 2,
     "metadata": {},
     "output_type": "execute_result"
    }
   ],
   "source": [
    "df.head()   # Primeras filas\n",
    "# df.info()   # Información general del DataFrame\n",
    "# df.describe()  # Estadísticas descriptivas"
   ]
  },
  {
   "cell_type": "code",
   "execution_count": 22,
   "metadata": {
    "colab": {
     "base_uri": "https://localhost:8080/"
    },
    "executionInfo": {
     "elapsed": 234,
     "status": "ok",
     "timestamp": 1739393357353,
     "user": {
      "displayName": "jose bonilla",
      "userId": "01636082211623947141"
     },
     "user_tz": 240
    },
    "id": "QvpSuH807DWh",
    "outputId": "217befec-cf00-4cfe-e094-1d7ff6f6147f"
   },
   "outputs": [
    {
     "name": "stdout",
     "output_type": "stream",
     "text": [
      "<class 'pandas.core.frame.DataFrame'>\n",
      "RangeIndex: 50 entries, 0 to 49\n",
      "Data columns (total 8 columns):\n",
      " #   Column                        Non-Null Count  Dtype \n",
      "---  ------                        --------------  ----- \n",
      " 0   ID_Empleado                   50 non-null     object\n",
      " 1   Departamento                  50 non-null     object\n",
      " 2   Horas_Capacitacion            50 non-null     int64 \n",
      " 3   Costo_Capacitacion            50 non-null     int64 \n",
      " 4   Evaluacion_Desempeno_Antes    50 non-null     int64 \n",
      " 5   Evaluacion_Desempeno_Despues  50 non-null     int64 \n",
      " 6   Productividad_%               50 non-null     int64 \n",
      " 7   Retencion_Laboral             50 non-null     object\n",
      "dtypes: int64(5), object(3)\n",
      "memory usage: 3.3+ KB\n"
     ]
    }
   ],
   "source": [
    "df.info()"
   ]
  },
  {
   "cell_type": "code",
   "execution_count": 3,
   "metadata": {
    "colab": {
     "base_uri": "https://localhost:8080/",
     "height": 320
    },
    "executionInfo": {
     "elapsed": 265,
     "status": "ok",
     "timestamp": 1739393369061,
     "user": {
      "displayName": "jose bonilla",
      "userId": "01636082211623947141"
     },
     "user_tz": 240
    },
    "id": "DYdKkSkh7FR9",
    "outputId": "42aca485-af92-46e4-a00c-c354ac63c575"
   },
   "outputs": [
    {
     "name": "stdout",
     "output_type": "stream",
     "text": [
      "<class 'pandas.core.frame.DataFrame'>\n",
      "RangeIndex: 50 entries, 0 to 49\n",
      "Data columns (total 8 columns):\n",
      " #   Column                        Non-Null Count  Dtype \n",
      "---  ------                        --------------  ----- \n",
      " 0   ID_Empleado                   50 non-null     object\n",
      " 1   Departamento                  50 non-null     object\n",
      " 2   Horas_Capacitacion            50 non-null     int64 \n",
      " 3   Costo_Capacitacion            50 non-null     int64 \n",
      " 4   Evaluacion_Desempeno_Antes    50 non-null     int64 \n",
      " 5   Evaluacion_Desempeno_Despues  50 non-null     int64 \n",
      " 6   Productividad_%               50 non-null     int64 \n",
      " 7   Retencion_Laboral             50 non-null     object\n",
      "dtypes: int64(5), object(3)\n",
      "memory usage: 3.3+ KB\n"
     ]
    }
   ],
   "source": [
    "df.info()"
   ]
  },
  {
   "cell_type": "code",
   "execution_count": 4,
   "metadata": {
    "executionInfo": {
     "elapsed": 207,
     "status": "ok",
     "timestamp": 1739393610210,
     "user": {
      "displayName": "jose bonilla",
      "userId": "01636082211623947141"
     },
     "user_tz": 240
    },
    "id": "s6As2qaT7IIA"
   },
   "outputs": [],
   "source": [
    "df = df.dropna()  # Eliminar filas con valores nulos\n",
    "df = df.drop_duplicates()  # Eliminar duplicados"
   ]
  },
  {
   "cell_type": "code",
   "execution_count": 3,
   "metadata": {
    "colab": {
     "base_uri": "https://localhost:8080/",
     "height": 226
    },
    "executionInfo": {
     "elapsed": 222,
     "status": "ok",
     "timestamp": 1739393642984,
     "user": {
      "displayName": "jose bonilla",
      "userId": "01636082211623947141"
     },
     "user_tz": 240
    },
    "id": "tuLybFvl8C_t",
    "outputId": "1d98fd53-cb28-441a-d827-ebe6c5dbf397"
   },
   "outputs": [
    {
     "data": {
      "text/html": [
       "<div>\n",
       "<style scoped>\n",
       "    .dataframe tbody tr th:only-of-type {\n",
       "        vertical-align: middle;\n",
       "    }\n",
       "\n",
       "    .dataframe tbody tr th {\n",
       "        vertical-align: top;\n",
       "    }\n",
       "\n",
       "    .dataframe thead th {\n",
       "        text-align: right;\n",
       "    }\n",
       "</style>\n",
       "<table border=\"1\" class=\"dataframe\">\n",
       "  <thead>\n",
       "    <tr style=\"text-align: right;\">\n",
       "      <th></th>\n",
       "      <th>ID_Empleado</th>\n",
       "      <th>Departamento</th>\n",
       "      <th>Horas_Capacitacion</th>\n",
       "      <th>Costo_Capacitacion</th>\n",
       "      <th>Evaluacion_Desempeno_Antes</th>\n",
       "      <th>Evaluacion_Desempeno_Despues</th>\n",
       "      <th>Productividad_%</th>\n",
       "      <th>Retencion_Laboral</th>\n",
       "    </tr>\n",
       "  </thead>\n",
       "  <tbody>\n",
       "    <tr>\n",
       "      <th>0</th>\n",
       "      <td>E1000</td>\n",
       "      <td>TI</td>\n",
       "      <td>10</td>\n",
       "      <td>1000</td>\n",
       "      <td>67</td>\n",
       "      <td>80</td>\n",
       "      <td>88</td>\n",
       "      <td>No</td>\n",
       "    </tr>\n",
       "    <tr>\n",
       "      <th>1</th>\n",
       "      <td>E1001</td>\n",
       "      <td>TI</td>\n",
       "      <td>25</td>\n",
       "      <td>500</td>\n",
       "      <td>76</td>\n",
       "      <td>73</td>\n",
       "      <td>92</td>\n",
       "      <td>Sí</td>\n",
       "    </tr>\n",
       "    <tr>\n",
       "      <th>2</th>\n",
       "      <td>E1002</td>\n",
       "      <td>Marketing</td>\n",
       "      <td>25</td>\n",
       "      <td>1500</td>\n",
       "      <td>78</td>\n",
       "      <td>83</td>\n",
       "      <td>66</td>\n",
       "      <td>Sí</td>\n",
       "    </tr>\n",
       "    <tr>\n",
       "      <th>3</th>\n",
       "      <td>E1003</td>\n",
       "      <td>Producción</td>\n",
       "      <td>30</td>\n",
       "      <td>200</td>\n",
       "      <td>70</td>\n",
       "      <td>83</td>\n",
       "      <td>60</td>\n",
       "      <td>No</td>\n",
       "    </tr>\n",
       "    <tr>\n",
       "      <th>4</th>\n",
       "      <td>E1004</td>\n",
       "      <td>Marketing</td>\n",
       "      <td>20</td>\n",
       "      <td>2000</td>\n",
       "      <td>66</td>\n",
       "      <td>82</td>\n",
       "      <td>94</td>\n",
       "      <td>Sí</td>\n",
       "    </tr>\n",
       "  </tbody>\n",
       "</table>\n",
       "</div>"
      ],
      "text/plain": [
       "  ID_Empleado Departamento  Horas_Capacitacion  Costo_Capacitacion  \\\n",
       "0       E1000           TI                  10                1000   \n",
       "1       E1001           TI                  25                 500   \n",
       "2       E1002    Marketing                  25                1500   \n",
       "3       E1003   Producción                  30                 200   \n",
       "4       E1004    Marketing                  20                2000   \n",
       "\n",
       "   Evaluacion_Desempeno_Antes  Evaluacion_Desempeno_Despues  Productividad_%  \\\n",
       "0                          67                            80               88   \n",
       "1                          76                            73               92   \n",
       "2                          78                            83               66   \n",
       "3                          70                            83               60   \n",
       "4                          66                            82               94   \n",
       "\n",
       "  Retencion_Laboral  \n",
       "0                No  \n",
       "1                Sí  \n",
       "2                Sí  \n",
       "3                No  \n",
       "4                Sí  "
      ]
     },
     "execution_count": 3,
     "metadata": {},
     "output_type": "execute_result"
    }
   ],
   "source": [
    "df.head()"
   ]
  },
  {
   "cell_type": "code",
   "execution_count": 24,
   "metadata": {
    "colab": {
     "base_uri": "https://localhost:8080/"
    },
    "executionInfo": {
     "elapsed": 201,
     "status": "ok",
     "timestamp": 1739393654629,
     "user": {
      "displayName": "jose bonilla",
      "userId": "01636082211623947141"
     },
     "user_tz": 240
    },
    "id": "pWYvNj818LAR",
    "outputId": "12e54fb5-30a2-4542-89d2-12ebeebb6025"
   },
   "outputs": [
    {
     "name": "stdout",
     "output_type": "stream",
     "text": [
      "<class 'pandas.core.frame.DataFrame'>\n",
      "RangeIndex: 50 entries, 0 to 49\n",
      "Data columns (total 8 columns):\n",
      " #   Column                        Non-Null Count  Dtype \n",
      "---  ------                        --------------  ----- \n",
      " 0   ID_Empleado                   50 non-null     object\n",
      " 1   Departamento                  50 non-null     object\n",
      " 2   Horas_Capacitacion            50 non-null     int64 \n",
      " 3   Costo_Capacitacion            50 non-null     int64 \n",
      " 4   Evaluacion_Desempeno_Antes    50 non-null     int64 \n",
      " 5   Evaluacion_Desempeno_Despues  50 non-null     int64 \n",
      " 6   Productividad_%               50 non-null     int64 \n",
      " 7   Retencion_Laboral             50 non-null     object\n",
      "dtypes: int64(5), object(3)\n",
      "memory usage: 3.3+ KB\n"
     ]
    }
   ],
   "source": [
    "df.info()"
   ]
  },
  {
   "cell_type": "code",
   "execution_count": 2,
   "metadata": {
    "colab": {
     "base_uri": "https://localhost:8080/",
     "height": 300
    },
    "executionInfo": {
     "elapsed": 293,
     "status": "ok",
     "timestamp": 1739393668006,
     "user": {
      "displayName": "jose bonilla",
      "userId": "01636082211623947141"
     },
     "user_tz": 240
    },
    "id": "xHbWQyMF8N3C",
    "outputId": "b56468d1-edd5-411d-ab8b-8a35943bde4c"
   },
   "outputs": [
    {
     "data": {
      "text/html": [
       "<div>\n",
       "<style scoped>\n",
       "    .dataframe tbody tr th:only-of-type {\n",
       "        vertical-align: middle;\n",
       "    }\n",
       "\n",
       "    .dataframe tbody tr th {\n",
       "        vertical-align: top;\n",
       "    }\n",
       "\n",
       "    .dataframe thead th {\n",
       "        text-align: right;\n",
       "    }\n",
       "</style>\n",
       "<table border=\"1\" class=\"dataframe\">\n",
       "  <thead>\n",
       "    <tr style=\"text-align: right;\">\n",
       "      <th></th>\n",
       "      <th>Horas_Capacitacion</th>\n",
       "      <th>Costo_Capacitacion</th>\n",
       "      <th>Evaluacion_Desempeno_Antes</th>\n",
       "      <th>Evaluacion_Desempeno_Despues</th>\n",
       "      <th>Productividad_%</th>\n",
       "    </tr>\n",
       "  </thead>\n",
       "  <tbody>\n",
       "    <tr>\n",
       "      <th>count</th>\n",
       "      <td>50.000000</td>\n",
       "      <td>50.000000</td>\n",
       "      <td>50.000000</td>\n",
       "      <td>50.000000</td>\n",
       "      <td>50.000000</td>\n",
       "    </tr>\n",
       "    <tr>\n",
       "      <th>mean</th>\n",
       "      <td>18.300000</td>\n",
       "      <td>1326.000000</td>\n",
       "      <td>68.540000</td>\n",
       "      <td>84.060000</td>\n",
       "      <td>78.420000</td>\n",
       "    </tr>\n",
       "    <tr>\n",
       "      <th>std</th>\n",
       "      <td>8.488287</td>\n",
       "      <td>728.378126</td>\n",
       "      <td>5.775423</td>\n",
       "      <td>9.013391</td>\n",
       "      <td>10.069331</td>\n",
       "    </tr>\n",
       "    <tr>\n",
       "      <th>min</th>\n",
       "      <td>5.000000</td>\n",
       "      <td>200.000000</td>\n",
       "      <td>60.000000</td>\n",
       "      <td>70.000000</td>\n",
       "      <td>60.000000</td>\n",
       "    </tr>\n",
       "    <tr>\n",
       "      <th>25%</th>\n",
       "      <td>10.000000</td>\n",
       "      <td>625.000000</td>\n",
       "      <td>63.250000</td>\n",
       "      <td>77.250000</td>\n",
       "      <td>71.750000</td>\n",
       "    </tr>\n",
       "    <tr>\n",
       "      <th>50%</th>\n",
       "      <td>20.000000</td>\n",
       "      <td>1500.000000</td>\n",
       "      <td>68.000000</td>\n",
       "      <td>83.000000</td>\n",
       "      <td>79.500000</td>\n",
       "    </tr>\n",
       "    <tr>\n",
       "      <th>75%</th>\n",
       "      <td>25.000000</td>\n",
       "      <td>2000.000000</td>\n",
       "      <td>72.750000</td>\n",
       "      <td>90.750000</td>\n",
       "      <td>86.000000</td>\n",
       "    </tr>\n",
       "    <tr>\n",
       "      <th>max</th>\n",
       "      <td>30.000000</td>\n",
       "      <td>2500.000000</td>\n",
       "      <td>80.000000</td>\n",
       "      <td>100.000000</td>\n",
       "      <td>94.000000</td>\n",
       "    </tr>\n",
       "  </tbody>\n",
       "</table>\n",
       "</div>"
      ],
      "text/plain": [
       "       Horas_Capacitacion  Costo_Capacitacion  Evaluacion_Desempeno_Antes  \\\n",
       "count           50.000000           50.000000                   50.000000   \n",
       "mean            18.300000         1326.000000                   68.540000   \n",
       "std              8.488287          728.378126                    5.775423   \n",
       "min              5.000000          200.000000                   60.000000   \n",
       "25%             10.000000          625.000000                   63.250000   \n",
       "50%             20.000000         1500.000000                   68.000000   \n",
       "75%             25.000000         2000.000000                   72.750000   \n",
       "max             30.000000         2500.000000                   80.000000   \n",
       "\n",
       "       Evaluacion_Desempeno_Despues  Productividad_%  \n",
       "count                     50.000000        50.000000  \n",
       "mean                      84.060000        78.420000  \n",
       "std                        9.013391        10.069331  \n",
       "min                       70.000000        60.000000  \n",
       "25%                       77.250000        71.750000  \n",
       "50%                       83.000000        79.500000  \n",
       "75%                       90.750000        86.000000  \n",
       "max                      100.000000        94.000000  "
      ]
     },
     "execution_count": 2,
     "metadata": {},
     "output_type": "execute_result"
    }
   ],
   "source": [
    "df.describe()"
   ]
  },
  {
   "cell_type": "code",
   "execution_count": 3,
   "metadata": {
    "colab": {
     "base_uri": "https://localhost:8080/",
     "height": 472
    },
    "executionInfo": {
     "elapsed": 331,
     "status": "ok",
     "timestamp": 1739393956586,
     "user": {
      "displayName": "jose bonilla",
      "userId": "01636082211623947141"
     },
     "user_tz": 240
    },
    "id": "WNiJKWyI8RGo",
    "outputId": "9726a05e-6a61-424e-c6ec-a267540d442d"
   },
   "outputs": [
    {
     "data": {
      "image/png": "[encoded data removed]",
      "text/plain": [
       "<Figure size 640x480 with 1 Axes>"
      ]
     },
     "metadata": {},
     "output_type": "display_data"
    }
   ],
   "source": [
    "import matplotlib.pyplot as plt\n",
    "\n",
    "plt.hist(df[\"Productividad_%\"], bins=20, color=\"blue\")  # Histograma\n",
    "plt.xlabel(\"Horas_Capacitacion\")\n",
    "plt.ylabel(\"Productividad_%\")\n",
    "plt.title(\"Distribución de datos\")\n",
    "plt.show()"
   ]
  },
  {
   "cell_type": "code",
   "execution_count": 8,
   "metadata": {
    "colab": {
     "base_uri": "https://localhost:8080/",
     "height": 450
    },
    "executionInfo": {
     "elapsed": 411,
     "status": "ok",
     "timestamp": 1739394014399,
     "user": {
      "displayName": "jose bonilla",
      "userId": "01636082211623947141"
     },
     "user_tz": 240
    },
    "id": "irpgfLT-8Zyd",
    "outputId": "bf59ca28-5f24-4235-e091-4fe416686e1c"
   },
   "outputs": [
    {
     "data": {
      "image/png": "[encoded data removed]",
      "text/plain": [
       "<Figure size 640x480 with 1 Axes>"
      ]
     },
     "metadata": {},
     "output_type": "display_data"
    }
   ],
   "source": [
    "plt.scatter(df[\"Evaluacion_Desempeno_Antes\"], df[\"Evaluacion_Desempeno_Despues\"], color=\"red\")  # Gráfico de dispersión\n",
    "plt.xlabel(\"Evaluacion_Desempeno_Despues\")\n",
    "plt.ylabel(\"Evaluacion_Desempeno_Antes\")\n",
    "plt.show()"
   ]
  },
  {
   "cell_type": "code",
   "execution_count": 11,
   "metadata": {
    "executionInfo": {
     "elapsed": 177,
     "status": "ok",
     "timestamp": 1739394028996,
     "user": {
      "displayName": "jose bonilla",
      "userId": "01636082211623947141"
     },
     "user_tz": 240
    },
    "id": "IL4_TVpz8nvq"
   },
   "outputs": [],
   "source": [
    "df.to_excel(\"datos_limpios1.xlsx\", index=False)  # Guardar en Excel"
   ]
  },
  {
   "cell_type": "code",
   "execution_count": 4,
   "metadata": {
    "colab": {
     "base_uri": "https://localhost:8080/",
     "height": 591
    },
    "executionInfo": {
     "elapsed": 517,
     "status": "ok",
     "timestamp": 1739394373331,
     "user": {
      "displayName": "jose bonilla",
      "userId": "01636082211623947141"
     },
     "user_tz": 240
    },
    "id": "FZBfEMaG86te",
    "outputId": "5e20797c-f0fe-46ac-8c37-1e53d86bb504"
   },
   "outputs": [
    {
     "data": {
      "image/png": "[encoded data removed]",
      "text/plain": [
       "<Figure size 1000x700 with 1 Axes>"
      ]
     },
     "metadata": {},
     "output_type": "display_data"
    }
   ],
   "source": [
    "data = pd.read_csv(\"impacto_capacitacion.csv\")\n",
    "df = pd.DataFrame(data)\n",
    "\n",
    "# Crear una tabla pivote (sumar ventas por categoría y mes)\n",
    "tabla_pivote = df.pivot_table(values=\"Horas_Capacitacion\", columns=\"Departamento\", aggfunc=\"sum\")\n",
    "\n",
    "# Graficar la tabla pivote\n",
    "tabla_pivote.plot(kind=\"bar\", figsize=(10, 7))\n",
    "\n",
    "# plt.xlabel(\"\")\n",
    "plt.ylabel(\"Horas_Capacitacion\")\n",
    "plt.title(\"Capacitacion\")\n",
    "# plt.legend(title=\"Categoría\")\n",
    "plt.xticks(rotation=30)\n",
    "plt.grid(axis=\"y\", linestyle=\"--\", alpha=0.7)\n",
    "\n",
    "# Mostrar gráfico\n",
    "plt.show()"
   ]
  },
  {
   "cell_type": "code",
   "execution_count": 18,
   "metadata": {
    "id": "FDLgn9Cu-H79"
   },
   "outputs": [
    {
     "data": {
      "image/png": "[encoded data removed]",
      "text/plain": [
       "<Figure size 800x400 with 1 Axes>"
      ]
     },
     "metadata": {},
     "output_type": "display_data"
    }
   ],
   "source": [
    "import seaborn as sns\n",
    "pivot_df = df.pivot_table(values='Productividad_%', columns='Evaluacion_Desempeno_Despues', aggfunc='sum', fill_value=0)\n",
    "\n",
    "plt.figure(figsize=(8, 4))\n",
    "sns.lineplot(data=pivot_df, marker='o')\n",
    "plt.title('Horas de capacitacion en el tiempo')\n",
    "plt.xlabel('')\n",
    "plt.ylabel('Horas de capacitacion')\n",
    "plt.xticks(rotation=45)\n",
    "plt.legend(title='Categoría')\n",
    "plt.tight_layout()"
   ]
  },
  {
   "cell_type": "code",
   "execution_count": 13,
   "metadata": {},
   "outputs": [
    {
     "name": "stdout",
     "output_type": "stream",
     "text": [
      "       Horas_Capacitacion  Costo_Capacitacion  Evaluacion_Desempeno_Antes  \\\n",
      "count           50.000000           50.000000                   50.000000   \n",
      "mean            18.300000         1326.000000                   68.540000   \n",
      "std              8.488287          728.378126                    5.775423   \n",
      "min              5.000000          200.000000                   60.000000   \n",
      "25%             10.000000          625.000000                   63.250000   \n",
      "50%             20.000000         1500.000000                   68.000000   \n",
      "75%             25.000000         2000.000000                   72.750000   \n",
      "max             30.000000         2500.000000                   80.000000   \n",
      "\n",
      "       Evaluacion_Desempeno_Despues  Productividad_%  \n",
      "count                     50.000000        50.000000  \n",
      "mean                      84.060000        78.420000  \n",
      "std                        9.013391        10.069331  \n",
      "min                       70.000000        60.000000  \n",
      "25%                       77.250000        71.750000  \n",
      "50%                       83.000000        79.500000  \n",
      "75%                       90.750000        86.000000  \n",
      "max                      100.000000        94.000000  \n"
     ]
    }
   ],
   "source": [
    "estadisticas = df.describe()\n",
    "print(estadisticas)"
   ]
  },
  {
   "cell_type": "code",
   "execution_count": 25,
   "metadata": {},
   "outputs": [
    {
     "ename": "KeyError",
     "evalue": "'Evaluacion_Desempeno_Despues'",
     "output_type": "error",
     "traceback": [
      "\u001b[0;31m---------------------------------------------------------------------------\u001b[0m",
      "\u001b[0;31mKeyError\u001b[0m                                  Traceback (most recent call last)",
      "Cell \u001b[0;32mIn[25], line 1\u001b[0m\n\u001b[0;32m----> 1\u001b[0m correlaciones \u001b[38;5;241m=\u001b[39m \u001b[43mdf\u001b[49m\u001b[43m[\u001b[49m\u001b[38;5;124;43m'\u001b[39;49m\u001b[38;5;124;43mEvaluacion_Desempeno_Antes\u001b[39;49m\u001b[38;5;124;43m'\u001b[39;49m\u001b[43m]\u001b[49m\u001b[43m[\u001b[49m\u001b[38;5;124;43m'\u001b[39;49m\u001b[38;5;124;43mEvaluacion_Desempeno_Despues\u001b[39;49m\u001b[38;5;124;43m'\u001b[39;49m\u001b[43m]\u001b[49m\n\u001b[1;32m      2\u001b[0m correlaciones\u001b[38;5;241m.\u001b[39mcorr()\n",
      "File \u001b[0;32m~/.local/lib/python3.12/site-packages/pandas/core/series.py:1121\u001b[0m, in \u001b[0;36mSeries.__getitem__\u001b[0;34m(self, key)\u001b[0m\n\u001b[1;32m   1118\u001b[0m     \u001b[38;5;28;01mreturn\u001b[39;00m \u001b[38;5;28mself\u001b[39m\u001b[38;5;241m.\u001b[39m_values[key]\n\u001b[1;32m   1120\u001b[0m \u001b[38;5;28;01melif\u001b[39;00m key_is_scalar:\n\u001b[0;32m-> 1121\u001b[0m     \u001b[38;5;28;01mreturn\u001b[39;00m \u001b[38;5;28;43mself\u001b[39;49m\u001b[38;5;241;43m.\u001b[39;49m\u001b[43m_get_value\u001b[49m\u001b[43m(\u001b[49m\u001b[43mkey\u001b[49m\u001b[43m)\u001b[49m\n\u001b[1;32m   1123\u001b[0m \u001b[38;5;66;03m# Convert generator to list before going through hashable part\u001b[39;00m\n\u001b[1;32m   1124\u001b[0m \u001b[38;5;66;03m# (We will iterate through the generator there to check for slices)\u001b[39;00m\n\u001b[1;32m   1125\u001b[0m \u001b[38;5;28;01mif\u001b[39;00m is_iterator(key):\n",
      "File \u001b[0;32m~/.local/lib/python3.12/site-packages/pandas/core/series.py:1237\u001b[0m, in \u001b[0;36mSeries._get_value\u001b[0;34m(self, label, takeable)\u001b[0m\n\u001b[1;32m   1234\u001b[0m     \u001b[38;5;28;01mreturn\u001b[39;00m \u001b[38;5;28mself\u001b[39m\u001b[38;5;241m.\u001b[39m_values[label]\n\u001b[1;32m   1236\u001b[0m \u001b[38;5;66;03m# Similar to Index.get_value, but we do not fall back to positional\u001b[39;00m\n\u001b[0;32m-> 1237\u001b[0m loc \u001b[38;5;241m=\u001b[39m \u001b[38;5;28;43mself\u001b[39;49m\u001b[38;5;241;43m.\u001b[39;49m\u001b[43mindex\u001b[49m\u001b[38;5;241;43m.\u001b[39;49m\u001b[43mget_loc\u001b[49m\u001b[43m(\u001b[49m\u001b[43mlabel\u001b[49m\u001b[43m)\u001b[49m\n\u001b[1;32m   1239\u001b[0m \u001b[38;5;28;01mif\u001b[39;00m is_integer(loc):\n\u001b[1;32m   1240\u001b[0m     \u001b[38;5;28;01mreturn\u001b[39;00m \u001b[38;5;28mself\u001b[39m\u001b[38;5;241m.\u001b[39m_values[loc]\n",
      "File \u001b[0;32m~/.local/lib/python3.12/site-packages/pandas/core/indexes/range.py:417\u001b[0m, in \u001b[0;36mRangeIndex.get_loc\u001b[0;34m(self, key)\u001b[0m\n\u001b[1;32m    415\u001b[0m         \u001b[38;5;28;01mraise\u001b[39;00m \u001b[38;5;167;01mKeyError\u001b[39;00m(key) \u001b[38;5;28;01mfrom\u001b[39;00m \u001b[38;5;21;01merr\u001b[39;00m\n\u001b[1;32m    416\u001b[0m \u001b[38;5;28;01mif\u001b[39;00m \u001b[38;5;28misinstance\u001b[39m(key, Hashable):\n\u001b[0;32m--> 417\u001b[0m     \u001b[38;5;28;01mraise\u001b[39;00m \u001b[38;5;167;01mKeyError\u001b[39;00m(key)\n\u001b[1;32m    418\u001b[0m \u001b[38;5;28mself\u001b[39m\u001b[38;5;241m.\u001b[39m_check_indexing_error(key)\n\u001b[1;32m    419\u001b[0m \u001b[38;5;28;01mraise\u001b[39;00m \u001b[38;5;167;01mKeyError\u001b[39;00m(key)\n",
      "\u001b[0;31mKeyError\u001b[0m: 'Evaluacion_Desempeno_Despues'"
     ]
    }
   ],
   "source": [
    "correlaciones = df['Evaluacion_Desempeno_Antes']['Evaluacion_Desempeno_Despues']\n",
    "correlaciones.corr()"
   ]
  },
  {
   "cell_type": "code",
   "execution_count": 26,
   "metadata": {},
   "outputs": [
    {
     "name": "stdout",
     "output_type": "stream",
     "text": [
      "                              Evaluacion_Desempeno_Antes  \\\n",
      "Evaluacion_Desempeno_Antes                      1.000000   \n",
      "Evaluacion_Desempeno_Despues                    0.034257   \n",
      "\n",
      "                              Evaluacion_Desempeno_Despues  \n",
      "Evaluacion_Desempeno_Antes                        0.034257  \n",
      "Evaluacion_Desempeno_Despues                      1.000000  \n"
     ]
    }
   ],
   "source": [
    "correlacion = df[['Evaluacion_Desempeno_Antes', 'Evaluacion_Desempeno_Despues']].corr()\n",
    "print(correlacion)"
   ]
  },
  {
   "cell_type": "code",
   "execution_count": 27,
   "metadata": {},
   "outputs": [
    {
     "name": "stdout",
     "output_type": "stream",
     "text": [
      "Index(['ID_Empleado', 'Departamento', 'Horas_Capacitacion',\n",
      "       'Costo_Capacitacion', 'Evaluacion_Desempeno_Antes',\n",
      "       'Evaluacion_Desempeno_Despues', 'Productividad_%', 'Retencion_Laboral'],\n",
      "      dtype='object')\n"
     ]
    }
   ],
   "source": [
    "print(df.columns)"
   ]
  },
  {
   "cell_type": "code",
   "execution_count": 28,
   "metadata": {},
   "outputs": [],
   "source": [
    "df.columns = df.columns.str.strip()"
   ]
  },
  {
   "cell_type": "code",
   "execution_count": 29,
   "metadata": {},
   "outputs": [
    {
     "name": "stdout",
     "output_type": "stream",
     "text": [
      "  ID_Empleado Departamento  Horas_Capacitacion  Costo_Capacitacion  \\\n",
      "0       E1000           TI                  10                1000   \n",
      "1       E1001           TI                  25                 500   \n",
      "2       E1002    Marketing                  25                1500   \n",
      "3       E1003   Producción                  30                 200   \n",
      "4       E1004    Marketing                  20                2000   \n",
      "\n",
      "   Evaluacion_Desempeno_Antes  Evaluacion_Desempeno_Despues  Productividad_%  \\\n",
      "0                          67                            80               88   \n",
      "1                          76                            73               92   \n",
      "2                          78                            83               66   \n",
      "3                          70                            83               60   \n",
      "4                          66                            82               94   \n",
      "\n",
      "  Retencion_Laboral  \n",
      "0                No  \n",
      "1                Sí  \n",
      "2                Sí  \n",
      "3                No  \n",
      "4                Sí  \n"
     ]
    }
   ],
   "source": [
    "print(df.head())  # Muestra las primeras filas"
   ]
  },
  {
   "cell_type": "code",
   "execution_count": 30,
   "metadata": {},
   "outputs": [],
   "source": [
    "df = df.reset_index()"
   ]
  },
  {
   "cell_type": "code",
   "execution_count": 31,
   "metadata": {},
   "outputs": [
    {
     "name": "stdout",
     "output_type": "stream",
     "text": [
      "                              Evaluacion_Desempeno_Antes  \\\n",
      "Evaluacion_Desempeno_Antes                      1.000000   \n",
      "Evaluacion_Desempeno_Despues                    0.034257   \n",
      "\n",
      "                              Evaluacion_Desempeno_Despues  \n",
      "Evaluacion_Desempeno_Antes                        0.034257  \n",
      "Evaluacion_Desempeno_Despues                      1.000000  \n"
     ]
    }
   ],
   "source": [
    "correlacion = df[['Evaluacion_Desempeno_Antes', 'Evaluacion_Desempeno_Despues']].corr()\n",
    "print(correlacion)"
   ]
  },
  {
   "cell_type": "code",
   "execution_count": null,
   "metadata": {},
   "outputs": [],
   "source": []
  }
 ],
 "metadata": {
  "colab": {
   "authorship_tag": "ABX9TyOE81RvQGlZpQpexUu1rGwx",
   "provenance": []
  },
  "kernelspec": {
   "display_name": "Python 3",
   "name": "python3"
  },
  "language_info": {
   "codemirror_mode": {
    "name": "ipython",
    "version": 3
   },
   "file_extension": ".py",
   "mimetype": "text/x-python",
   "name": "python",
   "nbconvert_exporter": "python",
   "pygments_lexer": "ipython3",
   "version": "3.12.1"
  }
 },
 "nbformat": 4,
 "nbformat_minor": 0
}
